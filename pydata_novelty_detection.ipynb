{
 "cells": [
  {
   "cell_type": "markdown",
   "metadata": {},
   "source": [
    "# Novelty Detection"
   ]
  },
  {
   "cell_type": "markdown",
   "metadata": {
    "collapsed": true
   },
   "source": [
    "Steps:\n",
    "\n",
    "1. preprocess tweets for feature extraction \n",
    "\n",
    "2. build a model from historical tweets\n",
    "\n",
    "3. use the model to predict the nearest neighbor for tweets in an anomalous period; rank tweets and keep the novel one(s)"
   ]
  },
  {
   "cell_type": "markdown",
   "metadata": {},
   "source": [
    "### 1. Preprocessing\n",
    "\n",
    "Preprocessing steps for feature extraction from tweets: tokenization, part-of-speech tagging, lemmatization, normalization. "
   ]
  },
  {
   "cell_type": "code",
   "execution_count": 64,
   "metadata": {
    "collapsed": true
   },
   "outputs": [],
   "source": [
    "from IPython.display import display"
   ]
  },
  {
   "cell_type": "code",
   "execution_count": 16,
   "metadata": {
    "collapsed": false
   },
   "outputs": [],
   "source": [
    "from nltk.tokenize import TweetTokenizer\n",
    "from nltk import pos_tag\n",
    "from nltk.stem import WordNetLemmatizer\n",
    "import re"
   ]
  },
  {
   "cell_type": "code",
   "execution_count": 17,
   "metadata": {
    "collapsed": true
   },
   "outputs": [],
   "source": [
    "PUNCTUATION = [':', '.', ')', '(']\n",
    "PUNCTUATION_AND_URL = PUNCTUATION + ['URL']\n",
    "LEMMATIZER_POS = ['n', 'v', 'a', 'r']\n",
    "TWITTER_SYMBOLS = ['#', '@']\n",
    "URL_PATTERN = re.compile(\"(https?:\\/\\/)?([\\da-z\\.-]+)\\.([a-z\\.]{2,6})([\\/\\w \\.-]*)*\\/?\")"
   ]
  },
  {
   "cell_type": "code",
   "execution_count": 18,
   "metadata": {
    "collapsed": true
   },
   "outputs": [],
   "source": [
    "tweet_tokenizer = TweetTokenizer()\n",
    "wordnet_lemmatizer = WordNetLemmatizer()\n",
    "vectorizer = TfidfVectorizer()\n",
    "lsh_forest = LSHForest()"
   ]
  },
  {
   "cell_type": "code",
   "execution_count": 19,
   "metadata": {
    "collapsed": true
   },
   "outputs": [],
   "source": [
    "def pos_to_lemmatizer_pos(pos_initial):        \n",
    "    if pos_initial != 'J':\n",
    "        return pos_initial.lower()\n",
    "    else:\n",
    "        return 'a'"
   ]
  },
  {
   "cell_type": "code",
   "execution_count": 20,
   "metadata": {
    "collapsed": true
   },
   "outputs": [],
   "source": [
    "def normalize_tagged_token(tagged_token):\n",
    "    token_str = tagged_token[0]\n",
    "    token_pos = tagged_token[1]\n",
    "    if token_str[0] in TWITTER_SYMBOLS:\n",
    "        return (token_str[1:], token_pos)\n",
    "    elif URL_PATTERN.match(token_str):\n",
    "        return (token_str, 'URL')\n",
    "    else:\n",
    "        return tagged_token"
   ]
  },
  {
   "cell_type": "code",
   "execution_count": 21,
   "metadata": {
    "collapsed": false
   },
   "outputs": [],
   "source": [
    "def lemmatize_tagged_token(tagged_token):\n",
    "    token_str = tagged_token[0]\n",
    "    token_pos = tagged_token[1]\n",
    "    pos_initial = pos_to_lemmatizer_pos(token_pos[0])\n",
    "    if pos_initial in LEMMATIZER_POS:\n",
    "        return(wordnet_lemmatizer.lemmatize(token_str, pos=pos_initial), token_pos)\n",
    "    else:\n",
    "        return tagged_token"
   ]
  },
  {
   "cell_type": "code",
   "execution_count": 22,
   "metadata": {
    "collapsed": true
   },
   "outputs": [],
   "source": [
    "def tweet_to_features(tweet):\n",
    "    # tokenization\n",
    "    tokens = tweet_tokenizer.tokenize(tweet)\n",
    "   \n",
    "    # pos tagging\n",
    "    pos_tagged_tokens = pos_tag(tokens)\n",
    "    \n",
    "    # lemmatize\n",
    "    lemmatized_tagged_tokens = [lemmatize_tagged_token(tagged_tok) for tagged_tok in pos_tagged_tokens]\n",
    "    \n",
    "    # normalized tokens \n",
    "    normalized_tagged_tokens = [normalize_tagged_token(tagged_tok) for tagged_tok in lemmatized_tagged_tokens]\n",
    "    \n",
    "    # keep valid tokens: no punctuation, URLs\n",
    "    valid_tweet_str =  ' '.join([ntoken[0] \n",
    "                                 for ntoken in normalized_tagged_tokens \n",
    "                                 if ntoken[1] not in PUNCTUATION_AND_URL])\n",
    "    \n",
    "    return valid_tweet_str"
   ]
  },
  {
   "cell_type": "markdown",
   "metadata": {},
   "source": [
    "Example preprocessing result"
   ]
  },
  {
   "cell_type": "code",
   "execution_count": 24,
   "metadata": {
    "collapsed": false,
    "scrolled": true
   },
   "outputs": [
    {
     "data": {
      "text/plain": [
       "u'Next Yahoo victim Hearing aid group Sonova buy AudioNova in $ 953 million deal S be buy D ArchiveTeam'"
      ]
     },
     "execution_count": 24,
     "metadata": {},
     "output_type": "execute_result"
    }
   ],
   "source": [
    "tweet_to_features('Next @Yahoo victim? Hearing aid group Sonova buys AudioNova in $953 million deal: S) is buying D... https://t.co/h1x5b05afu @ArchiveTeam')"
   ]
  },
  {
   "cell_type": "markdown",
   "metadata": {},
   "source": [
    "### 2. Dataset and model building"
   ]
  },
  {
   "cell_type": "markdown",
   "metadata": {},
   "source": [
    "Given a dataset of tweets spanning a certain time period, use tweets up to timestamp T to build a model used to predict novel tweets. "
   ]
  },
  {
   "cell_type": "code",
   "execution_count": 71,
   "metadata": {
    "collapsed": true
   },
   "outputs": [],
   "source": [
    "import pandas as pd\n",
    "from datetime import datetime, timedelta"
   ]
  },
  {
   "cell_type": "code",
   "execution_count": 126,
   "metadata": {
    "collapsed": false
   },
   "outputs": [
    {
     "data": {
      "text/html": [
       "<div>\n",
       "<table border=\"1\" class=\"dataframe\">\n",
       "  <thead>\n",
       "    <tr style=\"text-align: right;\">\n",
       "      <th></th>\n",
       "      <th>created_at</th>\n",
       "      <th>text</th>\n",
       "    </tr>\n",
       "  </thead>\n",
       "  <tbody>\n",
       "    <tr>\n",
       "      <th>0</th>\n",
       "      <td>2016-05-04T14:59:43.000Z</td>\n",
       "      <td>RT @vwpress_en: The #VWGolfGTI Clubsport S bre...</td>\n",
       "    </tr>\n",
       "    <tr>\n",
       "      <th>1</th>\n",
       "      <td>2016-05-04T14:57:28.000Z</td>\n",
       "      <td>RT @vwpress_en: The #VWGolfGTI Clubsport S bre...</td>\n",
       "    </tr>\n",
       "    <tr>\n",
       "      <th>2</th>\n",
       "      <td>2016-05-04T14:55:37.000Z</td>\n",
       "      <td>The Volkswagen Parts Sale continues. \\nDon't m...</td>\n",
       "    </tr>\n",
       "    <tr>\n",
       "      <th>3</th>\n",
       "      <td>2016-05-04T14:55:23.000Z</td>\n",
       "      <td>RT @vwpress_en: The #VWGolfGTI Clubsport S bre...</td>\n",
       "    </tr>\n",
       "    <tr>\n",
       "      <th>4</th>\n",
       "      <td>2016-05-04T14:54:40.000Z</td>\n",
       "      <td>RT @vwpress_en: The #VWGolfGTI Clubsport S bre...</td>\n",
       "    </tr>\n",
       "  </tbody>\n",
       "</table>\n",
       "</div>"
      ],
      "text/plain": [
       "                 created_at                                               text\n",
       "0  2016-05-04T14:59:43.000Z  RT @vwpress_en: The #VWGolfGTI Clubsport S bre...\n",
       "1  2016-05-04T14:57:28.000Z  RT @vwpress_en: The #VWGolfGTI Clubsport S bre...\n",
       "2  2016-05-04T14:55:37.000Z  The Volkswagen Parts Sale continues. \\nDon't m...\n",
       "3  2016-05-04T14:55:23.000Z  RT @vwpress_en: The #VWGolfGTI Clubsport S bre...\n",
       "4  2016-05-04T14:54:40.000Z  RT @vwpress_en: The #VWGolfGTI Clubsport S bre..."
      ]
     },
     "metadata": {},
     "output_type": "display_data"
    },
    {
     "data": {
      "text/html": [
       "<div>\n",
       "<table border=\"1\" class=\"dataframe\">\n",
       "  <thead>\n",
       "    <tr style=\"text-align: right;\">\n",
       "      <th></th>\n",
       "      <th>created_at</th>\n",
       "      <th>text</th>\n",
       "    </tr>\n",
       "  </thead>\n",
       "  <tbody>\n",
       "    <tr>\n",
       "      <th>195020</th>\n",
       "      <td>2014-06-01T06:37:09.000Z</td>\n",
       "      <td>A few improvements prior to #bristolvolksfest ...</td>\n",
       "    </tr>\n",
       "    <tr>\n",
       "      <th>195021</th>\n",
       "      <td>2014-06-01T06:31:47.000Z</td>\n",
       "      <td>VW to accelerate US model rollout - Filed unde...</td>\n",
       "    </tr>\n",
       "    <tr>\n",
       "      <th>195022</th>\n",
       "      <td>2014-06-01T03:19:06.000Z</td>\n",
       "      <td>#Volkswagen Group to invest 100 million euros ...</td>\n",
       "    </tr>\n",
       "    <tr>\n",
       "      <th>195023</th>\n",
       "      <td>2014-06-01T01:27:42.000Z</td>\n",
       "      <td>VW to accelerate US model rollout: Filed under...</td>\n",
       "    </tr>\n",
       "    <tr>\n",
       "      <th>195024</th>\n",
       "      <td>2014-06-01T01:08:41.000Z</td>\n",
       "      <td>The end. Once more time thank you so much @veu...</td>\n",
       "    </tr>\n",
       "  </tbody>\n",
       "</table>\n",
       "</div>"
      ],
      "text/plain": [
       "                      created_at  \\\n",
       "195020  2014-06-01T06:37:09.000Z   \n",
       "195021  2014-06-01T06:31:47.000Z   \n",
       "195022  2014-06-01T03:19:06.000Z   \n",
       "195023  2014-06-01T01:27:42.000Z   \n",
       "195024  2014-06-01T01:08:41.000Z   \n",
       "\n",
       "                                                     text  \n",
       "195020  A few improvements prior to #bristolvolksfest ...  \n",
       "195021  VW to accelerate US model rollout - Filed unde...  \n",
       "195022  #Volkswagen Group to invest 100 million euros ...  \n",
       "195023  VW to accelerate US model rollout: Filed under...  \n",
       "195024  The end. Once more time thank you so much @veu...  "
      ]
     },
     "metadata": {},
     "output_type": "display_data"
    },
    {
     "data": {
      "text/html": [
       "<div>\n",
       "<table border=\"1\" class=\"dataframe\">\n",
       "  <thead>\n",
       "    <tr style=\"text-align: right;\">\n",
       "      <th></th>\n",
       "      <th>created_at</th>\n",
       "      <th>text</th>\n",
       "    </tr>\n",
       "  </thead>\n",
       "  <tbody>\n",
       "    <tr>\n",
       "      <th>count</th>\n",
       "      <td>195025</td>\n",
       "      <td>195025</td>\n",
       "    </tr>\n",
       "    <tr>\n",
       "      <th>unique</th>\n",
       "      <td>164939</td>\n",
       "      <td>137802</td>\n",
       "    </tr>\n",
       "    <tr>\n",
       "      <th>top</th>\n",
       "      <td>2015-11-14T19:44:03.000Z</td>\n",
       "      <td>RT @business: BREAKING: #Volkswagen's shares f...</td>\n",
       "    </tr>\n",
       "    <tr>\n",
       "      <th>freq</th>\n",
       "      <td>83</td>\n",
       "      <td>993</td>\n",
       "    </tr>\n",
       "  </tbody>\n",
       "</table>\n",
       "</div>"
      ],
      "text/plain": [
       "                      created_at  \\\n",
       "count                     195025   \n",
       "unique                    164939   \n",
       "top     2015-11-14T19:44:03.000Z   \n",
       "freq                          83   \n",
       "\n",
       "                                                     text  \n",
       "count                                              195025  \n",
       "unique                                             137802  \n",
       "top     RT @business: BREAKING: #Volkswagen's shares f...  \n",
       "freq                                                  993  "
      ]
     },
     "metadata": {},
     "output_type": "display_data"
    }
   ],
   "source": [
    "df_input = pd.read_csv('pydata_vw_tweets.csv')\n",
    "display(df_input.head())\n",
    "display(df_input.tail())\n",
    "display(df_input.describe())"
   ]
  },
  {
   "cell_type": "markdown",
   "metadata": {},
   "source": [
    "Assume the training dataset includes all tweets between 1-6-2014 until 1-9-2015"
   ]
  },
  {
   "cell_type": "code",
   "execution_count": 127,
   "metadata": {
    "collapsed": false
   },
   "outputs": [
    {
     "data": {
      "text/html": [
       "<div>\n",
       "<table border=\"1\" class=\"dataframe\">\n",
       "  <thead>\n",
       "    <tr style=\"text-align: right;\">\n",
       "      <th></th>\n",
       "      <th>created_at</th>\n",
       "      <th>text</th>\n",
       "    </tr>\n",
       "  </thead>\n",
       "  <tbody>\n",
       "    <tr>\n",
       "      <th>168025</th>\n",
       "      <td>2015-08-31 23:40:22</td>\n",
       "      <td>RT @India_Business: #india #business : Suzuki ...</td>\n",
       "    </tr>\n",
       "    <tr>\n",
       "      <th>168026</th>\n",
       "      <td>2015-08-31 22:05:37</td>\n",
       "      <td>Suzuki, to the appropriation to the policy rep...</td>\n",
       "    </tr>\n",
       "    <tr>\n",
       "      <th>168027</th>\n",
       "      <td>2015-08-31 21:59:33</td>\n",
       "      <td>RT @iMiaSanMia: Volkswagen boss Martin Winterk...</td>\n",
       "    </tr>\n",
       "    <tr>\n",
       "      <th>168028</th>\n",
       "      <td>2015-08-31 21:54:30</td>\n",
       "      <td>RT @iMiaSanMia: Volkswagen boss Martin Winterk...</td>\n",
       "    </tr>\n",
       "    <tr>\n",
       "      <th>168029</th>\n",
       "      <td>2015-08-31 21:20:40</td>\n",
       "      <td>IndustryWeek: Suzuki set to buy back shares as...</td>\n",
       "    </tr>\n",
       "  </tbody>\n",
       "</table>\n",
       "</div>"
      ],
      "text/plain": [
       "                created_at                                               text\n",
       "168025 2015-08-31 23:40:22  RT @India_Business: #india #business : Suzuki ...\n",
       "168026 2015-08-31 22:05:37  Suzuki, to the appropriation to the policy rep...\n",
       "168027 2015-08-31 21:59:33  RT @iMiaSanMia: Volkswagen boss Martin Winterk...\n",
       "168028 2015-08-31 21:54:30  RT @iMiaSanMia: Volkswagen boss Martin Winterk...\n",
       "168029 2015-08-31 21:20:40  IndustryWeek: Suzuki set to buy back shares as..."
      ]
     },
     "metadata": {},
     "output_type": "display_data"
    },
    {
     "data": {
      "text/html": [
       "<div>\n",
       "<table border=\"1\" class=\"dataframe\">\n",
       "  <thead>\n",
       "    <tr style=\"text-align: right;\">\n",
       "      <th></th>\n",
       "      <th>created_at</th>\n",
       "      <th>text</th>\n",
       "    </tr>\n",
       "  </thead>\n",
       "  <tbody>\n",
       "    <tr>\n",
       "      <th>195020</th>\n",
       "      <td>2014-06-01 06:37:09</td>\n",
       "      <td>A few improvements prior to #bristolvolksfest ...</td>\n",
       "    </tr>\n",
       "    <tr>\n",
       "      <th>195021</th>\n",
       "      <td>2014-06-01 06:31:47</td>\n",
       "      <td>VW to accelerate US model rollout - Filed unde...</td>\n",
       "    </tr>\n",
       "    <tr>\n",
       "      <th>195022</th>\n",
       "      <td>2014-06-01 03:19:06</td>\n",
       "      <td>#Volkswagen Group to invest 100 million euros ...</td>\n",
       "    </tr>\n",
       "    <tr>\n",
       "      <th>195023</th>\n",
       "      <td>2014-06-01 01:27:42</td>\n",
       "      <td>VW to accelerate US model rollout: Filed under...</td>\n",
       "    </tr>\n",
       "    <tr>\n",
       "      <th>195024</th>\n",
       "      <td>2014-06-01 01:08:41</td>\n",
       "      <td>The end. Once more time thank you so much @veu...</td>\n",
       "    </tr>\n",
       "  </tbody>\n",
       "</table>\n",
       "</div>"
      ],
      "text/plain": [
       "                created_at                                               text\n",
       "195020 2014-06-01 06:37:09  A few improvements prior to #bristolvolksfest ...\n",
       "195021 2014-06-01 06:31:47  VW to accelerate US model rollout - Filed unde...\n",
       "195022 2014-06-01 03:19:06  #Volkswagen Group to invest 100 million euros ...\n",
       "195023 2014-06-01 01:27:42  VW to accelerate US model rollout: Filed under...\n",
       "195024 2014-06-01 01:08:41  The end. Once more time thank you so much @veu..."
      ]
     },
     "metadata": {},
     "output_type": "display_data"
    },
    {
     "data": {
      "text/html": [
       "<div>\n",
       "<table border=\"1\" class=\"dataframe\">\n",
       "  <thead>\n",
       "    <tr style=\"text-align: right;\">\n",
       "      <th></th>\n",
       "      <th>created_at</th>\n",
       "      <th>text</th>\n",
       "    </tr>\n",
       "  </thead>\n",
       "  <tbody>\n",
       "    <tr>\n",
       "      <th>count</th>\n",
       "      <td>27000</td>\n",
       "      <td>27000</td>\n",
       "    </tr>\n",
       "    <tr>\n",
       "      <th>unique</th>\n",
       "      <td>24025</td>\n",
       "      <td>22328</td>\n",
       "    </tr>\n",
       "    <tr>\n",
       "      <th>top</th>\n",
       "      <td>2015-04-16 21:46:36</td>\n",
       "      <td>RT @ubercool: Check out that cool, full-screen...</td>\n",
       "    </tr>\n",
       "    <tr>\n",
       "      <th>freq</th>\n",
       "      <td>63</td>\n",
       "      <td>252</td>\n",
       "    </tr>\n",
       "    <tr>\n",
       "      <th>first</th>\n",
       "      <td>2014-06-01 01:08:41</td>\n",
       "      <td>NaN</td>\n",
       "    </tr>\n",
       "    <tr>\n",
       "      <th>last</th>\n",
       "      <td>2015-08-31 23:40:22</td>\n",
       "      <td>NaN</td>\n",
       "    </tr>\n",
       "  </tbody>\n",
       "</table>\n",
       "</div>"
      ],
      "text/plain": [
       "                 created_at                                               text\n",
       "count                 27000                                              27000\n",
       "unique                24025                                              22328\n",
       "top     2015-04-16 21:46:36  RT @ubercool: Check out that cool, full-screen...\n",
       "freq                     63                                                252\n",
       "first   2014-06-01 01:08:41                                                NaN\n",
       "last    2015-08-31 23:40:22                                                NaN"
      ]
     },
     "metadata": {},
     "output_type": "display_data"
    }
   ],
   "source": [
    "df_input['created_at'] = pd.to_datetime(df_input['created_at'])\n",
    "df_train = df_input.loc[df_input['created_at'] < datetime(2015, 9, 1)].copy()\n",
    "display(df_train.head())\n",
    "display(df_train.tail())\n",
    "display(df_train.describe())"
   ]
  },
  {
   "cell_type": "markdown",
   "metadata": {},
   "source": [
    "Extract features from tweets which are used to build the model."
   ]
  },
  {
   "cell_type": "code",
   "execution_count": 128,
   "metadata": {
    "collapsed": false
   },
   "outputs": [
    {
     "data": {
      "text/html": [
       "<div>\n",
       "<table border=\"1\" class=\"dataframe\">\n",
       "  <thead>\n",
       "    <tr style=\"text-align: right;\">\n",
       "      <th></th>\n",
       "      <th>created_at</th>\n",
       "      <th>text</th>\n",
       "      <th>features</th>\n",
       "    </tr>\n",
       "  </thead>\n",
       "  <tbody>\n",
       "    <tr>\n",
       "      <th>168025</th>\n",
       "      <td>2015-08-31 23:40:22</td>\n",
       "      <td>RT @India_Business: #india #business : Suzuki ...</td>\n",
       "      <td>RT India_Business india business Suzuki start ...</td>\n",
       "    </tr>\n",
       "    <tr>\n",
       "      <th>168026</th>\n",
       "      <td>2015-08-31 22:05:37</td>\n",
       "      <td>Suzuki, to the appropriation to the policy rep...</td>\n",
       "      <td>Suzuki , to the appropriation to the policy re...</td>\n",
       "    </tr>\n",
       "    <tr>\n",
       "      <th>168027</th>\n",
       "      <td>2015-08-31 21:59:33</td>\n",
       "      <td>RT @iMiaSanMia: Volkswagen boss Martin Winterk...</td>\n",
       "      <td>RT iMiaSanMia Volkswagen boss Martin Winterkor...</td>\n",
       "    </tr>\n",
       "    <tr>\n",
       "      <th>168028</th>\n",
       "      <td>2015-08-31 21:54:30</td>\n",
       "      <td>RT @iMiaSanMia: Volkswagen boss Martin Winterk...</td>\n",
       "      <td>RT iMiaSanMia Volkswagen boss Martin Winterkor...</td>\n",
       "    </tr>\n",
       "    <tr>\n",
       "      <th>168029</th>\n",
       "      <td>2015-08-31 21:20:40</td>\n",
       "      <td>IndustryWeek: Suzuki set to buy back shares as...</td>\n",
       "      <td>IndustryWeek Suzuki set to buy back share as V...</td>\n",
       "    </tr>\n",
       "  </tbody>\n",
       "</table>\n",
       "</div>"
      ],
      "text/plain": [
       "                created_at                                               text  \\\n",
       "168025 2015-08-31 23:40:22  RT @India_Business: #india #business : Suzuki ...   \n",
       "168026 2015-08-31 22:05:37  Suzuki, to the appropriation to the policy rep...   \n",
       "168027 2015-08-31 21:59:33  RT @iMiaSanMia: Volkswagen boss Martin Winterk...   \n",
       "168028 2015-08-31 21:54:30  RT @iMiaSanMia: Volkswagen boss Martin Winterk...   \n",
       "168029 2015-08-31 21:20:40  IndustryWeek: Suzuki set to buy back shares as...   \n",
       "\n",
       "                                                 features  \n",
       "168025  RT India_Business india business Suzuki start ...  \n",
       "168026  Suzuki , to the appropriation to the policy re...  \n",
       "168027  RT iMiaSanMia Volkswagen boss Martin Winterkor...  \n",
       "168028  RT iMiaSanMia Volkswagen boss Martin Winterkor...  \n",
       "168029  IndustryWeek Suzuki set to buy back share as V...  "
      ]
     },
     "metadata": {},
     "output_type": "display_data"
    }
   ],
   "source": [
    "df_train.loc[:, 'features'] = df_train.apply(lambda row: tweet_to_features(row['text']), axis=1)\n",
    "display(df_train.head())"
   ]
  },
  {
   "cell_type": "markdown",
   "metadata": {},
   "source": [
    "Drop exact duplicates."
   ]
  },
  {
   "cell_type": "code",
   "execution_count": 130,
   "metadata": {
    "collapsed": false
   },
   "outputs": [
    {
     "data": {
      "text/html": [
       "<div>\n",
       "<table border=\"1\" class=\"dataframe\">\n",
       "  <thead>\n",
       "    <tr style=\"text-align: right;\">\n",
       "      <th></th>\n",
       "      <th>created_at</th>\n",
       "      <th>text</th>\n",
       "      <th>features</th>\n",
       "    </tr>\n",
       "  </thead>\n",
       "  <tbody>\n",
       "    <tr>\n",
       "      <th>count</th>\n",
       "      <td>13764</td>\n",
       "      <td>13764</td>\n",
       "      <td>13764</td>\n",
       "    </tr>\n",
       "    <tr>\n",
       "      <th>unique</th>\n",
       "      <td>13580</td>\n",
       "      <td>13764</td>\n",
       "      <td>13764</td>\n",
       "    </tr>\n",
       "    <tr>\n",
       "      <th>top</th>\n",
       "      <td>2014-11-20 21:39:15</td>\n",
       "      <td>VW: Huge funding in the future in China: Germa...</td>\n",
       "      <td>Volkswagen bet big on emerge market like India...</td>\n",
       "    </tr>\n",
       "    <tr>\n",
       "      <th>freq</th>\n",
       "      <td>4</td>\n",
       "      <td>1</td>\n",
       "      <td>1</td>\n",
       "    </tr>\n",
       "    <tr>\n",
       "      <th>first</th>\n",
       "      <td>2014-06-01 01:08:41</td>\n",
       "      <td>NaN</td>\n",
       "      <td>NaN</td>\n",
       "    </tr>\n",
       "    <tr>\n",
       "      <th>last</th>\n",
       "      <td>2015-08-31 23:40:22</td>\n",
       "      <td>NaN</td>\n",
       "      <td>NaN</td>\n",
       "    </tr>\n",
       "  </tbody>\n",
       "</table>\n",
       "</div>"
      ],
      "text/plain": [
       "                 created_at  \\\n",
       "count                 13764   \n",
       "unique                13580   \n",
       "top     2014-11-20 21:39:15   \n",
       "freq                      4   \n",
       "first   2014-06-01 01:08:41   \n",
       "last    2015-08-31 23:40:22   \n",
       "\n",
       "                                                     text  \\\n",
       "count                                               13764   \n",
       "unique                                              13764   \n",
       "top     VW: Huge funding in the future in China: Germa...   \n",
       "freq                                                    1   \n",
       "first                                                 NaN   \n",
       "last                                                  NaN   \n",
       "\n",
       "                                                 features  \n",
       "count                                               13764  \n",
       "unique                                              13764  \n",
       "top     Volkswagen bet big on emerge market like India...  \n",
       "freq                                                    1  \n",
       "first                                                 NaN  \n",
       "last                                                  NaN  "
      ]
     },
     "metadata": {},
     "output_type": "display_data"
    }
   ],
   "source": [
    "df_train = df_train.drop_duplicates(subset='features')\n",
    "display(df_train.describe())"
   ]
  },
  {
   "cell_type": "markdown",
   "metadata": {},
   "source": [
    "Build the LSHForest model"
   ]
  },
  {
   "cell_type": "code",
   "execution_count": 123,
   "metadata": {
    "collapsed": true
   },
   "outputs": [],
   "source": [
    "from sklearn.feature_extraction.text import TfidfVectorizer\n",
    "from sklearn.neighbors import LSHForest"
   ]
  },
  {
   "cell_type": "code",
   "execution_count": 131,
   "metadata": {
    "collapsed": false
   },
   "outputs": [
    {
     "data": {
      "text/plain": [
       "LSHForest(min_hash_match=4, n_candidates=50, n_estimators=10, n_neighbors=5,\n",
       "     radius=1.0, radius_cutoff_ratio=0.9, random_state=None)"
      ]
     },
     "execution_count": 131,
     "metadata": {},
     "output_type": "execute_result"
    }
   ],
   "source": [
    "feature_vectors = vectorizer.fit_transform(df_train['features'])\n",
    "lsh_forest.fit(feature_vectors)"
   ]
  },
  {
   "cell_type": "markdown",
   "metadata": {},
   "source": [
    "### 3. Make predictions"
   ]
  },
  {
   "cell_type": "markdown",
   "metadata": {},
   "source": [
    "Read anomalous periods provided by the anomaly detection algorithm. The anomalous period starts at _period start_ and ends one hour later."
   ]
  },
  {
   "cell_type": "code",
   "execution_count": 135,
   "metadata": {
    "collapsed": true
   },
   "outputs": [],
   "source": [
    "import numpy as np"
   ]
  },
  {
   "cell_type": "code",
   "execution_count": 99,
   "metadata": {
    "collapsed": false
   },
   "outputs": [
    {
     "data": {
      "text/html": [
       "<div>\n",
       "<table border=\"1\" class=\"dataframe\">\n",
       "  <thead>\n",
       "    <tr style=\"text-align: right;\">\n",
       "      <th></th>\n",
       "      <th>period_start</th>\n",
       "    </tr>\n",
       "  </thead>\n",
       "  <tbody>\n",
       "    <tr>\n",
       "      <th>0</th>\n",
       "      <td>2015-09-02 08:00:00</td>\n",
       "    </tr>\n",
       "    <tr>\n",
       "      <th>1</th>\n",
       "      <td>2015-09-02 11:00:00</td>\n",
       "    </tr>\n",
       "    <tr>\n",
       "      <th>2</th>\n",
       "      <td>2015-09-02 12:00:00</td>\n",
       "    </tr>\n",
       "    <tr>\n",
       "      <th>3</th>\n",
       "      <td>2015-09-03 12:00:00</td>\n",
       "    </tr>\n",
       "    <tr>\n",
       "      <th>4</th>\n",
       "      <td>2015-09-03 16:00:00</td>\n",
       "    </tr>\n",
       "  </tbody>\n",
       "</table>\n",
       "</div>"
      ],
      "text/plain": [
       "         period_start\n",
       "0 2015-09-02 08:00:00\n",
       "1 2015-09-02 11:00:00\n",
       "2 2015-09-02 12:00:00\n",
       "3 2015-09-03 12:00:00\n",
       "4 2015-09-03 16:00:00"
      ]
     },
     "metadata": {},
     "output_type": "display_data"
    }
   ],
   "source": [
    "df_anomalies = pd.read_csv('anomalies_vw.csv')\n",
    "df_anomalies = df_anomalies.drop('Unnamed: 0', 1)\n",
    "df_anomalies['period_start'] = pd.to_datetime(df_anomalies['period_start'])\n",
    "display(df_anomalies.head())"
   ]
  },
  {
   "cell_type": "code",
   "execution_count": 105,
   "metadata": {
    "collapsed": true
   },
   "outputs": [],
   "source": [
    "def tweets_in_period(period_start):\n",
    "    mask = (df_input['created_at'] >= period_start) & (df_input['created_at'] <= period_start + timedelta(hours=1))\n",
    "    tweets = df_input.loc[mask]['text'].tolist()\n",
    "    return {'tweets': tweets}"
   ]
  },
  {
   "cell_type": "code",
   "execution_count": 162,
   "metadata": {
    "collapsed": false
   },
   "outputs": [
    {
     "data": {
      "text/plain": [
       "{'tweets': ['#News #Stocks U.S. accuses Volkswagen of clean air violations  http://t.co/s51tPet1Ec',\n",
       "  '@volkskrant  @vwgroup_en  DONT HAVE A CAR VOLKSWIFI   DEVICE OR CAR  VEHICLE WATERVAPORIZES RECYCLES MYBE BANSELLINGBOTTLEDWATERS',\n",
       "  'EPA: Volkswagen cheated on emissions standards http://t.co/oSfYIb0Xjc #Stocks',\n",
       "  '#SA #markets Volkswagen takes the fall as EPA flexes clean air muscles:  http://t.co/ISJSi9E22t http://t.co/j3ZcgctIzR',\n",
       "  '\\xe2\\x80\\x9cBy 2020, we will have transformed all of our new cars into smartphones on wheels\\xe2\\x80\\x9d -Martin Winterkorn, @Volkswagen http://t.co/9XtQMYDbDG',\n",
       "  'Our wonderful Volkswagen sales staff shares their favorite things about #VW. What do you love about your #VeeDub?... http://t.co/zootQBuxBR',\n",
       "  \"RT @AliceMartin8: VW Does Some Party Planning With Adam Scott, Michael Pena, and McLovin: The carmaker's App Connect feature mak... http://\\xe2\\x80\\xa6\",\n",
       "  'Volkswagen Is Ordered to Recall Nearly 500000 Vehicles Over Emissions Software - New York Times http://t.co/S1EfSE6qCK',\n",
       "  \"VW Does Some Party Planning With Adam Scott, Michael Pena, and McLovin: The carmaker's App Connect feature mak... http://t.co/J6qKR6Q28I\",\n",
       "  \"VW Does Some Party Planning With Adam Scott, Michael Pena, and McLovin: The carmaker's App Connect feature mak... http://t.co/fNY909DdRb\",\n",
       "  '#News #Stocks EPA, California probing Volkswagen for clean air violations  http://t.co/s51tPet1Ec',\n",
       "  'We WILL annex Poland by the spring at any cost...and our stocks will rise HIGH! http://t.co/ZDMU7sbw6X',\n",
       "  'Volkswagen 1-year share price chart. Not only huuuge range, but lovely smooth rise and fall.',\n",
       "  \"Read this old Ward's 10 Best Engine piece on VW 2.0L diesel http://t.co/4J7cubLDjU\",\n",
       "  '#News #Stocks EPA, California investigate Volkswagen for clean air violations  http://t.co/s51tPet1Ec',\n",
       "  'RT @vwgroup_en: Volkswagen Group delivers 6.55 million vehicles in period to August #VWGroup http://t.co/nK5VlvccSr',\n",
       "  \"RT @ResearchPool: VOLKSWAGEN The group's delivery growth moderates fast $VOW3 @Alphavalue http://t.co/OrwfwZ0MCQ\",\n",
       "  'Most Active #OTCQX Stocks ($Vol M) | $TKGBY $6.9 | $RHHBY $4.7 | $DANOY $3.8 | $ADDYY $2.8 | $VLKAY $2.5 | http://t.co/FCKso4EAFp',\n",
       "  'RT @livesquawk: VW AG Shares Down 5.4%, News Doesn\\xe2\\x80\\x99t Get Better For The German Auto Company',\n",
       "  'RT @vwgroup_en: Volkswagen Group delivers 6.55 million vehicles in period to August #VWGroup http://t.co/nK5VlvccSr',\n",
       "  'Volkswagen Group delivers 6.55 million vehicles in period to August #VWGroup http://t.co/nK5VlvccSr',\n",
       "  'VW AG Shares Down 5.4%, News Doesn\\xe2\\x80\\x99t Get Better For The German Auto Company',\n",
       "  'The EPA accuses Volkswagen of Clean Air Act violations http://t.co/Oj0pXSocuD $VLKAY',\n",
       "  'The EPA accuses Volkswagen of Clean Air Act violations http://t.co/Cy9tk40ygd $VLKAY',\n",
       "  'The EPA accuses Volkswagen of Clean Air Act violations http://t.co/5MoTlWHxOH $VLKAY']}"
      ]
     },
     "execution_count": 162,
     "metadata": {},
     "output_type": "execute_result"
    }
   ],
   "source": [
    "tw = tweets_in_period(datetime(2015, 9, 18, 16, 0, 0))\n",
    "tw"
   ]
  },
  {
   "cell_type": "code",
   "execution_count": 109,
   "metadata": {
    "collapsed": false
   },
   "outputs": [
    {
     "data": {
      "text/html": [
       "<div>\n",
       "<table border=\"1\" class=\"dataframe\">\n",
       "  <thead>\n",
       "    <tr style=\"text-align: right;\">\n",
       "      <th></th>\n",
       "      <th>period_start</th>\n",
       "      <th>tweets</th>\n",
       "      <th>len_tweets</th>\n",
       "    </tr>\n",
       "  </thead>\n",
       "  <tbody>\n",
       "    <tr>\n",
       "      <th>0</th>\n",
       "      <td>2015-09-02 08:00:00</td>\n",
       "      <td>[UPDATE 1-VW committee proposes extending CEO ...</td>\n",
       "      <td>115</td>\n",
       "    </tr>\n",
       "    <tr>\n",
       "      <th>1</th>\n",
       "      <td>2015-09-02 11:00:00</td>\n",
       "      <td>[VW's CEO Martin Winterkorn set to stay on for...</td>\n",
       "      <td>72</td>\n",
       "    </tr>\n",
       "    <tr>\n",
       "      <th>2</th>\n",
       "      <td>2015-09-02 12:00:00</td>\n",
       "      <td>[GERMANY: VW extending Winterkorn's contract: ...</td>\n",
       "      <td>124</td>\n",
       "    </tr>\n",
       "    <tr>\n",
       "      <th>3</th>\n",
       "      <td>2015-09-03 12:00:00</td>\n",
       "      <td>[#News #Stocks Volkswagen CFO Poetsch to becom...</td>\n",
       "      <td>23</td>\n",
       "    </tr>\n",
       "    <tr>\n",
       "      <th>4</th>\n",
       "      <td>2015-09-03 16:00:00</td>\n",
       "      <td>[Love that signature shape. #ClassicCars #VWBe...</td>\n",
       "      <td>21</td>\n",
       "    </tr>\n",
       "  </tbody>\n",
       "</table>\n",
       "</div>"
      ],
      "text/plain": [
       "         period_start                                             tweets  \\\n",
       "0 2015-09-02 08:00:00  [UPDATE 1-VW committee proposes extending CEO ...   \n",
       "1 2015-09-02 11:00:00  [VW's CEO Martin Winterkorn set to stay on for...   \n",
       "2 2015-09-02 12:00:00  [GERMANY: VW extending Winterkorn's contract: ...   \n",
       "3 2015-09-03 12:00:00  [#News #Stocks Volkswagen CFO Poetsch to becom...   \n",
       "4 2015-09-03 16:00:00  [Love that signature shape. #ClassicCars #VWBe...   \n",
       "\n",
       "   len_tweets  \n",
       "0         115  \n",
       "1          72  \n",
       "2         124  \n",
       "3          23  \n",
       "4          21  "
      ]
     },
     "metadata": {},
     "output_type": "display_data"
    }
   ],
   "source": [
    "df_anomalies.loc[:, 'tweets'] = df_anomalies.apply(lambda row: tweets_in_period(row['period_start']), axis=1)\n",
    "df_anomalies.loc[:, 'len_tweets'] = df_anomalies.apply(lambda row: len(row['tweets']), axis=1)\n",
    "display(df_anomalies.head())"
   ]
  },
  {
   "cell_type": "markdown",
   "metadata": {},
   "source": [
    "Identify novel tweets."
   ]
  },
  {
   "cell_type": "code",
   "execution_count": 218,
   "metadata": {
    "collapsed": false
   },
   "outputs": [],
   "source": [
    "def novel_tweets(tweets):\n",
    "    \n",
    "    features = [tweet_to_features(tweet) for tweet in tweets]\n",
    "    len_tweets = np.array([len(t) for t in tweets])\n",
    "    \n",
    "    vectors = vectorizer.transform(features)\n",
    "    distances, indices = lsh_forest.kneighbors(vectors, n_neighbors=1)\n",
    "    \n",
    "    distances = distances.reshape(1, len(tweets))[0]\n",
    "    distances = distances/len_tweets\n",
    "    \n",
    "    novelty_result = np.argsort(distances)    \n",
    "    best_novelty_result = novelty_result[-3:].tolist()\n",
    "    \n",
    "    result_tweets = [(tweets[r], distances[r]) for r in best_novelty_result]\n",
    "    \n",
    "    return {'novel_tweets': result_tweets}"
   ]
  },
  {
   "cell_type": "code",
   "execution_count": 219,
   "metadata": {
    "collapsed": false
   },
   "outputs": [
    {
     "data": {
      "text/plain": [
       "{'novel_tweets': [('The EPA accuses Volkswagen of Clean Air Act violations http://t.co/5MoTlWHxOH $VLKAY',\n",
       "   0.010224082412261139),\n",
       "  ('VW AG Shares Down 5.4%, News Doesn\\xe2\\x80\\x99t Get Better For The German Auto Company',\n",
       "   0.010506235383665526),\n",
       "  (\"Read this old Ward's 10 Best Engine piece on VW 2.0L diesel http://t.co/4J7cubLDjU\",\n",
       "   0.010940330250019606)]}"
      ]
     },
     "execution_count": 219,
     "metadata": {},
     "output_type": "execute_result"
    }
   ],
   "source": [
    "novel_tweets(tw.get('tweets'))"
   ]
  },
  {
   "cell_type": "code",
   "execution_count": 220,
   "metadata": {
    "collapsed": false
   },
   "outputs": [
    {
     "data": {
      "text/plain": [
       "0    [(Volkswagen will likely extend CEO Winterkorn...\n",
       "1    [(UPDATE 2-VW's CEO Martin Winterkorn set to s...\n",
       "2    [(Martin Winterkorn’s mandate at VW extended t...\n",
       "3    [(#News #Stocks VW CFO Poetsch to be proposed ...\n",
       "4    [(FreedomWonInc. Volkswagen finance chief Poet...\n",
       "Name: novel_tweets, dtype: object"
      ]
     },
     "metadata": {},
     "output_type": "display_data"
    }
   ],
   "source": [
    "df_anomalies.loc[:, 'novel_tweets'] = df_anomalies.apply(lambda row: novel_tweets(row['tweets']), axis=1)\n",
    "display(df_anomalies['novel_tweets'].head())"
   ]
  },
  {
   "cell_type": "code",
   "execution_count": 221,
   "metadata": {
    "collapsed": false
   },
   "outputs": [
    {
     "data": {
      "text/html": [
       "<div>\n",
       "<table border=\"1\" class=\"dataframe\">\n",
       "  <thead>\n",
       "    <tr style=\"text-align: right;\">\n",
       "      <th></th>\n",
       "      <th>period_start</th>\n",
       "      <th>tweets</th>\n",
       "      <th>len_tweets</th>\n",
       "      <th>novel_tweets</th>\n",
       "    </tr>\n",
       "  </thead>\n",
       "  <tbody>\n",
       "    <tr>\n",
       "      <th>0</th>\n",
       "      <td>2015-09-02 08:00:00</td>\n",
       "      <td>[UPDATE 1-VW committee proposes extending CEO ...</td>\n",
       "      <td>115</td>\n",
       "      <td>[(Volkswagen will likely extend CEO Winterkorn...</td>\n",
       "    </tr>\n",
       "    <tr>\n",
       "      <th>1</th>\n",
       "      <td>2015-09-02 11:00:00</td>\n",
       "      <td>[VW's CEO Martin Winterkorn set to stay on for...</td>\n",
       "      <td>72</td>\n",
       "      <td>[(UPDATE 2-VW's CEO Martin Winterkorn set to s...</td>\n",
       "    </tr>\n",
       "    <tr>\n",
       "      <th>2</th>\n",
       "      <td>2015-09-02 12:00:00</td>\n",
       "      <td>[GERMANY: VW extending Winterkorn's contract: ...</td>\n",
       "      <td>124</td>\n",
       "      <td>[(Martin Winterkorn’s mandate at VW extended t...</td>\n",
       "    </tr>\n",
       "    <tr>\n",
       "      <th>3</th>\n",
       "      <td>2015-09-03 12:00:00</td>\n",
       "      <td>[#News #Stocks Volkswagen CFO Poetsch to becom...</td>\n",
       "      <td>23</td>\n",
       "      <td>[(#News #Stocks VW CFO Poetsch to be proposed ...</td>\n",
       "    </tr>\n",
       "    <tr>\n",
       "      <th>4</th>\n",
       "      <td>2015-09-03 16:00:00</td>\n",
       "      <td>[Love that signature shape. #ClassicCars #VWBe...</td>\n",
       "      <td>21</td>\n",
       "      <td>[(FreedomWonInc. Volkswagen finance chief Poet...</td>\n",
       "    </tr>\n",
       "    <tr>\n",
       "      <th>5</th>\n",
       "      <td>2015-09-04 07:00:00</td>\n",
       "      <td>[RT @vwgroup_en: In 2014 #Porsche was able to ...</td>\n",
       "      <td>74</td>\n",
       "      <td>[(Martin Winterkorn Stays At The Helm As VW En...</td>\n",
       "    </tr>\n",
       "    <tr>\n",
       "      <th>6</th>\n",
       "      <td>2015-09-09 06:00:00</td>\n",
       "      <td>[RT @lizcastro: Volkswagen is not afraid of Ca...</td>\n",
       "      <td>19</td>\n",
       "      <td>[(Volkswagen is not afraid of Catalan independ...</td>\n",
       "    </tr>\n",
       "    <tr>\n",
       "      <th>7</th>\n",
       "      <td>2015-09-14 17:00:00</td>\n",
       "      <td>[General Motors: Buy For The 4.9% Dividend Alo...</td>\n",
       "      <td>39</td>\n",
       "      <td>[(The @vwgroup_en #Frankfurt press conference ...</td>\n",
       "    </tr>\n",
       "    <tr>\n",
       "      <th>8</th>\n",
       "      <td>2015-09-14 18:00:00</td>\n",
       "      <td>[Surprise! @Porsche drops all electric 4-door ...</td>\n",
       "      <td>32</td>\n",
       "      <td>[(@E6Principal @E6General @Bugatti @vwgroup_de...</td>\n",
       "    </tr>\n",
       "    <tr>\n",
       "      <th>9</th>\n",
       "      <td>2015-09-14 19:00:00</td>\n",
       "      <td>[ICYMI: #VWGroup Night at the #IAA. Watch rebr...</td>\n",
       "      <td>48</td>\n",
       "      <td>[(It's like a unicorn. @Bugatti @vwgroup_en #I...</td>\n",
       "    </tr>\n",
       "    <tr>\n",
       "      <th>10</th>\n",
       "      <td>2015-09-14 23:00:00</td>\n",
       "      <td>[RT @cmsGOMEX: World Premiere of the #Porsche ...</td>\n",
       "      <td>18</td>\n",
       "      <td>[((Financial Times) VW unveils battery-powered...</td>\n",
       "    </tr>\n",
       "    <tr>\n",
       "      <th>11</th>\n",
       "      <td>2015-09-15 03:00:00</td>\n",
       "      <td>[RT @bored2tears: #Porsche is showing off an e...</td>\n",
       "      <td>14</td>\n",
       "      <td>[(VW to reinvent itself as a maker of smartpho...</td>\n",
       "    </tr>\n",
       "    <tr>\n",
       "      <th>12</th>\n",
       "      <td>2015-09-17 10:00:00</td>\n",
       "      <td>[Suzuki Seals $3.8 Billion Buyback Marking End...</td>\n",
       "      <td>14</td>\n",
       "      <td>[(Partnership: A Crucible for Innovation: Luca...</td>\n",
       "    </tr>\n",
       "    <tr>\n",
       "      <th>13</th>\n",
       "      <td>2015-09-18 16:00:00</td>\n",
       "      <td>[#News #Stocks U.S. accuses Volkswagen of clea...</td>\n",
       "      <td>25</td>\n",
       "      <td>[(The EPA accuses Volkswagen of Clean Air Act ...</td>\n",
       "    </tr>\n",
       "    <tr>\n",
       "      <th>14</th>\n",
       "      <td>2015-09-18 17:00:00</td>\n",
       "      <td>[Volkswagen could face $18 billion penalties f...</td>\n",
       "      <td>36</td>\n",
       "      <td>[(US accuses Volkswagen of illegal pollution c...</td>\n",
       "    </tr>\n",
       "  </tbody>\n",
       "</table>\n",
       "</div>"
      ],
      "text/plain": [
       "          period_start                                             tweets  \\\n",
       "0  2015-09-02 08:00:00  [UPDATE 1-VW committee proposes extending CEO ...   \n",
       "1  2015-09-02 11:00:00  [VW's CEO Martin Winterkorn set to stay on for...   \n",
       "2  2015-09-02 12:00:00  [GERMANY: VW extending Winterkorn's contract: ...   \n",
       "3  2015-09-03 12:00:00  [#News #Stocks Volkswagen CFO Poetsch to becom...   \n",
       "4  2015-09-03 16:00:00  [Love that signature shape. #ClassicCars #VWBe...   \n",
       "5  2015-09-04 07:00:00  [RT @vwgroup_en: In 2014 #Porsche was able to ...   \n",
       "6  2015-09-09 06:00:00  [RT @lizcastro: Volkswagen is not afraid of Ca...   \n",
       "7  2015-09-14 17:00:00  [General Motors: Buy For The 4.9% Dividend Alo...   \n",
       "8  2015-09-14 18:00:00  [Surprise! @Porsche drops all electric 4-door ...   \n",
       "9  2015-09-14 19:00:00  [ICYMI: #VWGroup Night at the #IAA. Watch rebr...   \n",
       "10 2015-09-14 23:00:00  [RT @cmsGOMEX: World Premiere of the #Porsche ...   \n",
       "11 2015-09-15 03:00:00  [RT @bored2tears: #Porsche is showing off an e...   \n",
       "12 2015-09-17 10:00:00  [Suzuki Seals $3.8 Billion Buyback Marking End...   \n",
       "13 2015-09-18 16:00:00  [#News #Stocks U.S. accuses Volkswagen of clea...   \n",
       "14 2015-09-18 17:00:00  [Volkswagen could face $18 billion penalties f...   \n",
       "\n",
       "    len_tweets                                       novel_tweets  \n",
       "0          115  [(Volkswagen will likely extend CEO Winterkorn...  \n",
       "1           72  [(UPDATE 2-VW's CEO Martin Winterkorn set to s...  \n",
       "2          124  [(Martin Winterkorn’s mandate at VW extended t...  \n",
       "3           23  [(#News #Stocks VW CFO Poetsch to be proposed ...  \n",
       "4           21  [(FreedomWonInc. Volkswagen finance chief Poet...  \n",
       "5           74  [(Martin Winterkorn Stays At The Helm As VW En...  \n",
       "6           19  [(Volkswagen is not afraid of Catalan independ...  \n",
       "7           39  [(The @vwgroup_en #Frankfurt press conference ...  \n",
       "8           32  [(@E6Principal @E6General @Bugatti @vwgroup_de...  \n",
       "9           48  [(It's like a unicorn. @Bugatti @vwgroup_en #I...  \n",
       "10          18  [((Financial Times) VW unveils battery-powered...  \n",
       "11          14  [(VW to reinvent itself as a maker of smartpho...  \n",
       "12          14  [(Partnership: A Crucible for Innovation: Luca...  \n",
       "13          25  [(The EPA accuses Volkswagen of Clean Air Act ...  \n",
       "14          36  [(US accuses Volkswagen of illegal pollution c...  "
      ]
     },
     "metadata": {},
     "output_type": "display_data"
    }
   ],
   "source": [
    "display(df_anomalies.head(15))"
   ]
  }
 ],
 "metadata": {
  "kernelspec": {
   "display_name": "Python 2",
   "language": "python",
   "name": "python2"
  },
  "language_info": {
   "codemirror_mode": {
    "name": "ipython",
    "version": 2
   },
   "file_extension": ".py",
   "mimetype": "text/x-python",
   "name": "python",
   "nbconvert_exporter": "python",
   "pygments_lexer": "ipython2",
   "version": "2.7.11"
  }
 },
 "nbformat": 4,
 "nbformat_minor": 0
}
